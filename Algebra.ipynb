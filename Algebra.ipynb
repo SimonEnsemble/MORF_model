{
 "cells": [
  {
   "cell_type": "code",
   "execution_count": 78,
   "metadata": {},
   "outputs": [],
   "source": [
    "from sympy import *\n",
    "# material space\n",
    "eps_h, eps_t, delta = symbols('eps_h eps_t delta')\n",
    "beps_h, beps_t, bdelta = symbols('beps_h beps_t bdelta')\n",
    "\n",
    "# thermodynamic params, β, P\n",
    "b, P, n = symbols('b P n')"
   ]
  },
  {
   "cell_type": "markdown",
   "metadata": {},
   "source": [
    "# Adsorption isotherm of a MORF\n",
    "\n",
    "\\begin{equation}\n",
    "    \\langle n \\rangle(P) = \\dfrac{K \\beta P}{1+K \\beta P}\n",
    "\\end{equation} where:\n",
    "\\begin{equation}\n",
    "K=K(\\beta; \\delta, \\epsilon_\\heartsuit, \\epsilon_\\triangle)=\\dfrac{1}{1+e^{-\\beta\\delta}}e^{-\\beta \\epsilon_\\triangle} + \\dfrac{e^{-\\beta\\delta}}{1+e^{-\\beta\\delta}}e^{-\\beta \\epsilon_\\heartsuit}\n",
    "\\end{equation}."
   ]
  },
  {
   "cell_type": "code",
   "execution_count": 79,
   "metadata": {},
   "outputs": [
    {
     "name": "stdout",
     "output_type": "stream",
     "text": [
      "  -b⋅epsₜ    -b⋅δ  -b⋅epsₕ\n",
      " ℯ          ℯ    ⋅ℯ       \n",
      "───────── + ──────────────\n",
      "     -b⋅δ          -b⋅δ   \n",
      "1 + ℯ         1 + ℯ       \n"
     ]
    }
   ],
   "source": [
    "K = 1/(1+exp(-b*delta)) * exp(-b*eps_t) + exp(-b*delta)/(1+exp(-b*delta)) * exp(-b*eps_h)\n",
    "pprint(K)"
   ]
  },
  {
   "cell_type": "code",
   "execution_count": 80,
   "metadata": {},
   "outputs": [
    {
     "name": "stdout",
     "output_type": "stream",
     "text": [
      "⎛        bdelta + bepsₕ           bdelta + bepsₜ          bepsₜ          bdelt\n",
      "⎝bdelta⋅ℯ               - bdelta⋅ℯ               - bepsₕ⋅ℯ      - bepsₕ⋅ℯ     \n",
      "──────────────────────────────────────────────────────────────────────────────\n",
      "                                                                              \n",
      "                                                                              \n",
      "\n",
      "a + bepsₜ          bdelta + bepsₕ          2⋅bdelta + bepsₕ    bepsₜ    bdelta\n",
      "          - bepsₜ⋅ℯ               - bepsₜ⋅ℯ                 + ℯ      + ℯ      \n",
      "──────────────────────────────────────────────────────────────────────────────\n",
      "                    2⋅bdelta      bdelta                                      \n",
      "                   ℯ         + 2⋅ℯ       + 1                                  \n",
      "\n",
      " + bepsₕ    bdelta + bepsₜ    2⋅bdelta + bepsₕ⎞  -bepsₕ - bepsₜ\n",
      "         + ℯ               + ℯ                ⎠⋅ℯ              \n",
      "───────────────────────────────────────────────────────────────\n",
      "                                                               \n",
      "                                                               \n"
     ]
    }
   ],
   "source": [
    "dkb_db = expand(diff(K*b, b)).subs(b*delta, bdelta).subs(b*eps_h, beps_h).subs(b*eps_t, beps_t)\n",
    "pprint(simplify(dkb_db))"
   ]
  },
  {
   "cell_type": "code",
   "execution_count": 81,
   "metadata": {},
   "outputs": [
    {
     "name": "stdout",
     "output_type": "stream",
     "text": [
      "⎛        bdelta + bepsₕ           bdelta + bepsₜ          bepsₜ          bdelt\n",
      "⎝bdelta⋅ℯ               - bdelta⋅ℯ               - bepsₕ⋅ℯ      - bepsₕ⋅ℯ     \n",
      "\n",
      "a + bepsₜ          bdelta + bepsₕ          2⋅bdelta + bepsₕ    bepsₜ    bdelta\n",
      "          - bepsₜ⋅ℯ               - bepsₜ⋅ℯ                 + ℯ      + ℯ      \n",
      "\n",
      " + bepsₕ    bdelta + bepsₜ    2⋅bdelta + bepsₕ⎞  -2⋅bdelta - bepsₕ - bepsₜ\n",
      "         + ℯ               + ℯ                ⎠⋅ℯ                         \n"
     ]
    }
   ],
   "source": [
    "dkb_db = simplify(dkb_db * (1+exp(-bdelta))**2)\n",
    "\n",
    "pprint((simplify(dkb_db)))"
   ]
  }
 ],
 "metadata": {
  "kernelspec": {
   "display_name": "Python 3",
   "language": "python",
   "name": "python3"
  },
  "language_info": {
   "codemirror_mode": {
    "name": "ipython",
    "version": 3
   },
   "file_extension": ".py",
   "mimetype": "text/x-python",
   "name": "python",
   "nbconvert_exporter": "python",
   "pygments_lexer": "ipython3",
   "version": "3.6.8"
  }
 },
 "nbformat": 4,
 "nbformat_minor": 2
}
