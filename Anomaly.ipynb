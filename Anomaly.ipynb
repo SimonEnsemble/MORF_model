{
 "cells": [
  {
   "cell_type": "markdown",
   "metadata": {},
   "source": [
    "# Finding Anomalous gas absorbtion in MORFs\n",
    "Under certain circumstances the amount of gas stored in a MORF can increase as temperature increases, this is very cool as it never occurs in a MOF without a ring.\n",
    "\n",
    "Starting with the grand canonical ensemble, the  probability of a state is as follows:\n",
    "$$P_i =\\displaystyle\\sum^{all states} \\frac{e^{\\beta(\\mu N_i-E_i)}}{Z}$$\n",
    "\n",
    "Assuming that there are four possibe states, corresponding to two ring positions and the prescence of gas the probabilty of a state can be written as:\n",
    "$$P(n,r)=\\frac{e^{\\beta(\\mu n − r\\delta−n(r\\epsilon_{\\heartsuit} + (1−r)\\epsilon_{\\triangle}}}{1 +  e^{−\\beta \\delta} + e^{\\beta(\\mu−\\epsilon_{\\triangle})} + e^{\\beta(\\mu − \\epsilon_{\\heartsuit} − \\delta)}}$$\n",
    "\n",
    "This makes the probability of a state in our MORF:\n",
    "$$P(n,r)=\\frac{e^{\\beta(\\mu n − r\\delta−n(r\\epsilon_{\\heartsuit} + (1−r)\\epsilon_{\\triangle}}}{1 +  e^{−\\beta \\delta} + e^{\\beta(\\mu−\\epsilon_{\\triangle})} + e^{\\beta(\\mu − \\epsilon_{\\heartsuit} − \\delta)}}$$\n",
    "\n",
    "Uisng the concept of thermal averages, the expectation value of n is:\n",
    "$$<n> = \\frac{e^{\\beta(\\mu−\\epsilon_{\\triangle})} + e^{\\beta(\\mu − \\epsilon_{\\heartsuit} − \\delta)}}{1 +  e^{−\\beta \\delta} + e^{\\beta(\\mu−\\epsilon_{\\triangle})} + e^{\\beta(\\mu − \\epsilon_{\\heartsuit} − \\delta)}}$$\n",
    "\n",
    "Which can in turn be written as \n",
    "$$\\langle n \\rangle = \\frac{\\lambda k}{1+\\lambda k}$$\n",
    "\n",
    "where $\\lambda = e^{\\beta \\mu}$ and  $k = \\frac{e^{−\\beta \\epsilon_\\triangle} + e^{− \\beta(\\delta + \\epsilon_\\heartsuit))}}{1+e^{−\\beta \\delta}}$. \n",
    "\n",
    "For the correct choice of $\\delta$ , $\\epsilon_\\heartsuit$, and $\\epsilon_\\triangle$ the derivative of $\\langle n \\rangle$ with regards to temperature, as we will now show. Note that we will use the $\\beta$ derivative as it is mathematically less clunky and conveniently unitless.\n",
    "\n",
    "Let's find $\\frac{\\partial \\langle n \\rangle}{\\partial \\beta} < 0$"
   ]
  },
  {
   "cell_type": "code",
   "execution_count": 2,
   "metadata": {},
   "outputs": [
    {
     "data": {
      "text/plain": [
       "N (generic function with 1 method)"
      ]
     },
     "execution_count": 2,
     "metadata": {},
     "output_type": "execute_result"
    }
   ],
   "source": [
    "using ForwardDiff\n",
    "using Printf\n",
    "using PyPlot\n",
    "using DataFrames\n",
    "using DelimitedFiles\n",
    "using CSV\n",
    "PyPlot.matplotlib.style.use(\"Solarize_Light2\") # dope style\n",
    "\n",
    "#output variables\n",
    "resolution = 10\n",
    "β_test = 7.0\n",
    "μ_test = 4.0\n",
    "#remember to change in python script aswell\n",
    "#\n",
    "#\n",
    "#\n",
    "#\n",
    "\n",
    "struct Material\n",
    "    δ::Float64\n",
    "    ϵ♡::Float64\n",
    "    ϵΔ::Float64\n",
    "end\n",
    "\n",
    "function Base.show(io::IO, material::Material)\n",
    "    @printf(\"MORF material with:\\n\\tδ = %.3f\\n\\tϵ♡ = %.3f\\n\\tϵΔ = %.3f\\n\", material.δ, material.ϵ♡, material.ϵΔ)\n",
    "end\n",
    "\n",
    "function K(β::Real, material::Material) # must assert β::Real as opposed to β::Float64 for ForwardDiff.jl to work\n",
    "    p = 1 / (1 + exp(-β * material.δ)) # probability ring is on ♡ when gas is absent\n",
    "    return p * exp(-β * material.ϵΔ) + (1 - p) * exp(-β * material.ϵ♡)\n",
    "end\n",
    "\n",
    "function λ(μ::Real, β::Real) # must assert β::Real as opposed to β::Float64 for ForwardDiff.jl to work\n",
    "    return exp(β*μ)\n",
    "end\n",
    "    \n",
    "function N(μ::Real,β::Real, material::Material)# must assert β::Real as opposed to β::Float64 for ForwardDiff.jl to work\n",
    "    numerator = λ(μ,β)*K(β,material)\n",
    "    denominator = 1 + λ(μ,β)*K(β,material)\n",
    "    return numerator/denominator\n",
    "end"
   ]
  },
  {
   "cell_type": "markdown",
   "metadata": {},
   "source": [
    "Now in order to identify where in material space anomalous behavior occurs we'll utilize automatic differentation to find $\\frac{\\partial \\langle n \\rangle}{\\partial \\beta}$."
   ]
  },
  {
   "cell_type": "code",
   "execution_count": 3,
   "metadata": {},
   "outputs": [
    {
     "data": {
      "text/plain": [
       "∂N_∂β (generic function with 1 method)"
      ]
     },
     "execution_count": 3,
     "metadata": {},
     "output_type": "execute_result"
    }
   ],
   "source": [
    "function ∂N_∂β(μ,β::Float64, material::Material)#using ⟨n⟩ in the function name triggers a syntax errror\n",
    "    # view K as a function of β only.\n",
    "    N_of_β(x) = N(μ, x[1], material) # x plays role of β\n",
    "    ∂N_∂β_of_β = x -> ForwardDiff.gradient(N_of_β, x) # x plays role of β\n",
    "    return ∂N_∂β_of_β([β])[1]\n",
    "end"
   ]
  },
  {
   "cell_type": "code",
   "execution_count": 5,
   "metadata": {},
   "outputs": [
    {
     "data": {
      "text/plain": [
       "\"Anomalous_behavior_at_beta=7.0_and_mu=4.0_res=10.csv\""
      ]
     },
     "execution_count": 5,
     "metadata": {},
     "output_type": "execute_result"
    }
   ],
   "source": [
    "nb_pts = resolution\n",
    "#range we'll search over\n",
    "δ_range = range(0.0, stop=4.0, length=nb_pts)\n",
    "ϵ♡_range = range(-4.0, stop=0.0, length=nb_pts)\n",
    "ϵΔ_range = range(-4.0, stop=0.0, length=nb_pts)\n",
    "β_range = range(0.01, stop=10.0, length=nb_pts)\n",
    "μ_range = range(0.01, stop=5.0, length=nb_pts)\n",
    "#data size\n",
    "indexing_var = 1\n",
    "for δ in δ_range\n",
    "    for ϵ♡ in ϵ♡_range\n",
    "        for ϵΔ in ϵΔ_range\n",
    "            material = Material(δ, ϵ♡, ϵΔ)\n",
    "            if ∂N_∂β(μ_test,β_test, material)<0.0\n",
    "                indexing_var += 1\n",
    "            end\n",
    "        end\n",
    "    end\n",
    "end\n",
    "#data storage\n",
    "valid_δ = zeros(Float64, indexing_var)\n",
    "valid_ϵ♡ = zeros(Float64, indexing_var)\n",
    "valid_ϵΔ = zeros(Float64, indexing_var)\n",
    "roc = zeros(Float64, indexing_var)\n",
    "\n",
    "indexing_var = 1\n",
    "for δ in δ_range\n",
    "    for ϵ♡ in ϵ♡_range\n",
    "        for ϵΔ in ϵΔ_range\n",
    "            material = Material(δ, ϵ♡, ϵΔ)\n",
    "            if ∂N_∂β(μ_test,β_test, material)<0.0\n",
    "                roc[indexing_var] = ∂N_∂β(μ_test,β_test, material)\n",
    "                valid_δ[indexing_var] = δ\n",
    "                valid_ϵ♡[indexing_var] = ϵ♡\n",
    "                valid_ϵΔ[indexing_var] = ϵΔ\n",
    "                indexing_var += 1\n",
    "            end\n",
    "        end\n",
    "    end\n",
    "end\n",
    "\n",
    "df = DataFrame()\n",
    "df.δ = valid_δ\n",
    "df.ϵ♡ =  valid_ϵ♡\n",
    "df.ϵΔ = valid_ϵΔ\n",
    "df.∂n_∂β = roc\n",
    "\n",
    "filename= \"Anomalous_behavior_at_beta=$(β_test)_and_mu=$(μ_test)_res=$(resolution).csv\"\n",
    "\n",
    "CSV.write(filename,  DataFrame(df), writeheader=true)"
   ]
  },
  {
   "cell_type": "markdown",
   "metadata": {},
   "source": [
    "Visit is being a pain so I'm going to attmept to visualize data in another manner. This is a python library called Seaborn. Unfortunately Julia and pandas(which Seaborn is an extension of) differ in how they view dataframes, and as such we have to go between python and Julia."
   ]
  },
  {
   "cell_type": "code",
   "execution_count": 9,
   "metadata": {},
   "outputs": [
    {
     "data": {
      "text/plain": [
       "<Figure size 432x288 with 0 Axes>"
      ]
     },
     "metadata": {},
     "output_type": "display_data"
    },
    {
     "data": {
      "image/png": "[encoded data removed]",
      "text/plain": [
       "<Figure size 532.6x360 with 1 Axes>"
      ]
     },
     "metadata": {},
     "output_type": "display_data"
    }
   ],
   "source": [
    "#output data, same as above\n",
    "resolution = 10\n",
    "β_test = 7.0\n",
    "μ_test = 4.0\n",
    "#remember to change above\n",
    "#\n",
    "#\n",
    "#\n",
    "#\n",
    "\n",
    "import pandas as pd\n",
    "import matplotlib.pyplot as plt\n",
    "import seaborn as sns\n",
    "import numpy as np\n",
    "%matplotlib inline\n",
    "sns.set(style=\"white\")\n",
    "\n",
    "filename = \"Anomalous_behavior_at_beta=\" + str(β_test) + \"_and_mu=\" + str(μ_test) + \"_res=\" + str(resolution) + \".csv\"\n",
    "\n",
    "anomaly = pd.read_csv(filename) \n",
    "\n",
    "# print(data.δ)\n",
    "\n",
    "plt.figure()\n",
    "plt.rcParams['figure.figsize'] = [20, 10]\n",
    "sns.relplot(x=\"ϵΔ\", y=\"ϵ♡\",\n",
    "                     hue=\"∂n_∂β\", size=\"δ\",\n",
    "                     palette='inferno', alpha=.5, sizes=(10, 200),\n",
    "                     data=anomaly)\n",
    "plt.title(\"Anomalous_behavior_at_beta=\" + str(β_test) + \"_and_mu=\" + str(μ_test))\n",
    "plt.show()"
   ]
  },
  {
   "cell_type": "code",
   "execution_count": null,
   "metadata": {},
   "outputs": [],
   "source": []
  }
 ],
 "metadata": {
  "kernelspec": {
   "display_name": "Python 3",
   "language": "python",
   "name": "python3"
  },
  "language_info": {
   "codemirror_mode": {
    "name": "ipython",
    "version": 3
   },
   "file_extension": ".py",
   "mimetype": "text/x-python",
   "name": "python",
   "nbconvert_exporter": "python",
   "pygments_lexer": "ipython3",
   "version": "3.7.3"
  }
 },
 "nbformat": 4,
 "nbformat_minor": 2
}
