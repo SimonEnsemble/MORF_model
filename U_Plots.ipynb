{
 "cells": [
  {
   "cell_type": "markdown",
   "metadata": {},
   "source": [
    "## Jonathan Carney\n",
    "\n",
    "Partition w/ Pressure"
   ]
  },
  {
   "cell_type": "code",
   "execution_count": 5,
   "metadata": {},
   "outputs": [
    {
     "data": {
      "text/plain": [
       "Z_P (generic function with 1 method)"
      ]
     },
     "execution_count": 5,
     "metadata": {},
     "output_type": "execute_result"
    }
   ],
   "source": [
    "function Z_P(β,ϵ_Δ,ϵ_♡,δ,P)\n",
    "    return 1 + exp(-β*δ)+ β*P*(exp(-β*ϵ_Δ)+exp(-β*(ϵ_♡+δ)))\n",
    "end"
   ]
  },
  {
   "cell_type": "markdown",
   "metadata": {},
   "source": [
    "$\\langle U \\rangle(p)$"
   ]
  },
  {
   "cell_type": "code",
   "execution_count": 7,
   "metadata": {},
   "outputs": [
    {
     "data": {
      "text/plain": [
       "U_P (generic function with 1 method)"
      ]
     },
     "execution_count": 7,
     "metadata": {},
     "output_type": "execute_result"
    }
   ],
   "source": [
    "function U_P(β,ϵ_Δ,ϵ_♡,δ,P)\n",
    "    numerator = δ*exp(-β*δ)+ β*P*(ϵ_Δ*exp(-β*ϵ_Δ)+(ϵ_♡+δ)*exp(-β*(ϵ_♡+δ)))\n",
    "    return numerator/Z_P(β,ϵ_Δ,ϵ_♡,δ,P)\n",
    "end"
   ]
  },
  {
   "cell_type": "markdown",
   "metadata": {},
   "source": [
    "$\\langle U \\rangle_{n=0}$ or the U for the empty MOF"
   ]
  },
  {
   "cell_type": "code",
   "execution_count": 9,
   "metadata": {},
   "outputs": [
    {
     "data": {
      "text/plain": [
       "U_empty_P (generic function with 1 method)"
      ]
     },
     "execution_count": 9,
     "metadata": {},
     "output_type": "execute_result"
    }
   ],
   "source": [
    "function U_empty_P(β,δ)\n",
    "    return δ*exp(-β*δ)/(1+exp(-β*δ))\n",
    "end"
   ]
  },
  {
   "cell_type": "markdown",
   "metadata": {},
   "source": [
    "$\\langle n \\rangle$"
   ]
  },
  {
   "cell_type": "code",
   "execution_count": 11,
   "metadata": {},
   "outputs": [
    {
     "data": {
      "text/plain": [
       "n_P (generic function with 1 method)"
      ]
     },
     "execution_count": 11,
     "metadata": {},
     "output_type": "execute_result"
    }
   ],
   "source": [
    "function n_P(β,ϵ_Δ,ϵ_♡,δ,P)\n",
    "    numerator = β*P*(exp(-β*ϵ_Δ)+exp(-β*(ϵ_♡+δ)))\n",
    "    return numerator/Z_P(β,ϵ_Δ,ϵ_♡,δ,P)\n",
    "end"
   ]
  },
  {
   "cell_type": "markdown",
   "metadata": {},
   "source": [
    "Now we produce the pressure plots."
   ]
  },
  {
   "cell_type": "code",
   "execution_count": 12,
   "metadata": {},
   "outputs": [
    {
     "data": {
      "text/plain": [
       "1:1:1000"
      ]
     },
     "execution_count": 12,
     "metadata": {},
     "output_type": "execute_result"
    }
   ],
   "source": [
    "#define test parameters\n",
    "β_test = 1\n",
    "δ_test = 1\n",
    "ϵ_Δ_test = 1\n",
    "ϵ_♡_test = 1\n",
    "resolution = 1000\n",
    "\n",
    "#maybe change\n",
    "P_range = range(1,stop = resolution, step = 1)\n",
    "# β_range = range(0.01,stop = 1, step = 1)"
   ]
  },
  {
   "cell_type": "code",
   "execution_count": 15,
   "metadata": {},
   "outputs": [],
   "source": [
    "Plot_A = zeros(resolution)\n",
    "Plot_B = zeros(resolution)\n",
    "Plot_C = zeros(resolution)\n",
    "for i in P_range\n",
    "    Plot_A[i] = U_P(β_test,ϵ_Δ_test,ϵ_♡_test,δ_test,i)\n",
    "    Plot_B[i] = Plot_A[i]/n_P(β_test,ϵ_Δ_test,ϵ_♡_test,δ_test,i)\n",
    "    Plot_C[i] = Plot_A[i] - U_empty_P(β_test,i)\n",
    "end"
   ]
  },
  {
   "cell_type": "code",
   "execution_count": 31,
   "metadata": {},
   "outputs": [],
   "source": [
    "using PyPlot\n",
    "pygui(true)\n",
    "figure()\n",
    "plot(P_range,Plot_A,color = \"#bf77f6\")\n",
    "title(\"<U>(P) β=$(β_test), δ=$(δ_test), ϵ_Δ=$(ϵ_Δ_test), ϵ_♡=$(ϵ_♡_test)\")\n",
    "xlabel(\"P\")\n",
    "ylabel(\"<U>\")\n",
    "show()\n",
    "###################################################################################################\n",
    "figure()\n",
    "plot(P_range,Plot_B,color = \"#bf77f6\")\n",
    "title(\"<U>/<n>(P) β=$(β_test), δ=$(δ_test), ϵ_Δ=$(ϵ_Δ_test), ϵ_♡=$(ϵ_♡_test)\")\n",
    "xlabel(\"P\")\n",
    "ylabel(\"<U>/<n>\")\n",
    "show()\n",
    "###################################################################################################\n",
    "figure()\n",
    "plot(P_range,Plot_B,color = \"#bf77f6\")\n",
    "title(\"<U>-<Uempty>(P) β=$(β_test), δ=$(δ_test), ϵ_Δ=$(ϵ_Δ_test), ϵ_♡=$(ϵ_♡_test)\")\n",
    "xlabel(\"P\")\n",
    "ylabel(\"<U>-<Uempty>\")\n",
    "show()"
   ]
  },
  {
   "cell_type": "markdown",
   "metadata": {},
   "source": [
    "Now we will look at: $$\\frac{\\partial \\langle U \\rangle}{\\partial \\langle n \\rangle}$$ Where we compare an RMS MOF to a Langmuir MOF, which is equivalent to: $$\\frac{\\langle U \\rangle - \\langle U \\rangle_{n=0}}{\\langle n \\rangle}$$ We'll set $K_{RMS} = K_{Langmuir}$ by having the lnagmuir bonding site energy $\\epsilon$ be given by:\n",
    "$$\\epsilon = \\frac{-ln(K_R)}{\\beta}$$ where $$K_R=\\dfrac{1}{1+e^{-\\beta\\delta}}e^{-\\beta \\epsilon_\\triangle} + \\dfrac{e^{-\\beta\\delta}}{1+e^{-\\beta\\delta}}e^{-\\beta \\epsilon_\\heartsuit}$$"
   ]
  },
  {
   "cell_type": "code",
   "execution_count": 64,
   "metadata": {},
   "outputs": [
    {
     "data": {
      "text/plain": [
       "ϵ (generic function with 1 method)"
      ]
     },
     "execution_count": 64,
     "metadata": {},
     "output_type": "execute_result"
    }
   ],
   "source": [
    "##testing variables\n",
    "β_test2 = 1.238\n",
    "δ_test2 = 0.15\n",
    "ϵ_Δ_test2 = 4.63\n",
    "ϵ_♡_test2 = 7.18\n",
    "resolution2 = 1000\n",
    "P_min = 10\n",
    "P_max = 1000\n",
    "Pressure_Range = range(P_min,stop=P_max,length=resolution2)\n",
    "\n",
    "function ϵ(β,ϵ_Δ,ϵ_♡,δ,P)\n",
    "    numerator = exp(-β*ϵ_Δ) + exp(-β*(δ+ϵ_♡))\n",
    "    denominator = 1 + exp(-β*δ)\n",
    "    return -1*log(numerator/denominator)/β\n",
    "end"
   ]
  },
  {
   "cell_type": "code",
   "execution_count": 65,
   "metadata": {},
   "outputs": [],
   "source": [
    "Ratio_RMS = zeros(resolution2)\n",
    "Ratio_Langmuir = zeros(resolution2)\n",
    "for P_i in range(1,resolution2,step=1)\n",
    "    Ratio_RMS[P_i] = (U_P(β_test2,ϵ_Δ_test2,ϵ_♡_test2,δ_test2,Pressure_Range[P_i]) - U_empty_P(β_test2,Pressure_Range[P_i]))/n_P(β_test2,ϵ_Δ_test2,ϵ_♡_test2,δ_test2,Pressure_Range[P_i])\n",
    "    Ratio_Langmuir[P_i] = ϵ(β_test2,ϵ_Δ_test2,ϵ_♡_test2,δ_test2,Pressure_Range[P_i])\n",
    "end"
   ]
  },
  {
   "cell_type": "code",
   "execution_count": 66,
   "metadata": {},
   "outputs": [],
   "source": [
    "using PyPlot\n",
    "pygui(true)\n",
    "figure()\n",
    "plot(Pressure_Range,Ratio_RMS,color = \"#bf77f6\", label = \"RMS\")\n",
    "plot(Pressure_Range,Ratio_Langmuir,color = \"#ae7181\", label = \"Langmuir\")\n",
    "title(\"∂⟨U⟩/∂⟨n⟩(P) β=$(β_test2), δ=$(δ_test2), ϵ_Δ=$(ϵ_Δ_test2), ϵ_♡=$(ϵ_♡_test2)\")\n",
    "xlabel(\"P\")\n",
    "ylabel(\"∂⟨U⟩/∂⟨n⟩(P)\")\n",
    "legend()\n",
    "show()"
   ]
  },
  {
   "cell_type": "code",
   "execution_count": null,
   "metadata": {},
   "outputs": [],
   "source": []
  }
 ],
 "metadata": {
  "kernelspec": {
   "display_name": "Julia 1.2.0",
   "language": "julia",
   "name": "julia-1.2"
  },
  "language_info": {
   "file_extension": ".jl",
   "mimetype": "application/julia",
   "name": "julia",
   "version": "1.2.0"
  }
 },
 "nbformat": 4,
 "nbformat_minor": 2
}
