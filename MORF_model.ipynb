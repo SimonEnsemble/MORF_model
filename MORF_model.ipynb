{
 "cells": [
  {
   "cell_type": "code",
   "execution_count": 6,
   "metadata": {},
   "outputs": [
    {
     "data": {
      "text/plain": [
       "16"
      ]
     },
     "execution_count": 6,
     "metadata": {},
     "output_type": "execute_result"
    }
   ],
   "source": [
    "using ForwardDiff\n",
    "using Printf\n",
    "using PyPlot\n",
    "using PorousMaterials\n",
    "using Colors\n",
    "using ColorSchemes\n",
    "using LaTeXStrings\n",
    "using DataFrames\n",
    "using SymPy\n",
    "\n",
    "PyPlot.matplotlib.style.use(\"seaborn-pastel\")\n",
    "\n",
    "rcParams = PyPlot.PyDict(PyPlot.matplotlib.\"rcParams\")\n",
    "rcParams[\"font.size\"] = 16"
   ]
  },
  {
   "cell_type": "markdown",
   "metadata": {},
   "source": [
    "# Data structure for a MORF\n",
    "* $\\delta$ is...\n",
    "* $\\epsilon_\\heartsuit$ is...\n",
    "* $\\epsilon_\\Delta$ is...\n",
    "\n",
    "\n",
    "We define _material space_ to be $( \\delta, \\epsilon_\\heartsuit, \\epsilon_\\triangle)$."
   ]
  },
  {
   "cell_type": "code",
   "execution_count": 7,
   "metadata": {},
   "outputs": [],
   "source": [
    "struct Material\n",
    "    δ::Float64\n",
    "    ϵ♡::Float64\n",
    "    ϵ△::Float64\n",
    "end\n",
    "\n",
    "function Base.show(io::IO, material::Material)\n",
    "    @printf(\"MORF material with:\\n\\tδ = %.3f\\n\\tϵ♡ = %.3f\\n\\tϵ△ = %.3f\\n\", material.δ, material.ϵ♡, material.ϵ△)\n",
    "end"
   ]
  },
  {
   "cell_type": "markdown",
   "metadata": {},
   "source": [
    "# Adsorption isotherm of a MORF\n",
    "\n",
    "\\begin{equation}\n",
    "    \\langle n \\rangle(P) = \\dfrac{K \\beta P}{1+K \\beta P}\n",
    "\\end{equation} where:\n",
    "\\begin{equation}\n",
    "K=K(\\beta; \\delta, \\epsilon_\\heartsuit, \\epsilon_\\triangle)=\\dfrac{1}{1+e^{-\\beta\\delta}}e^{-\\beta \\epsilon_\\triangle} + \\dfrac{e^{-\\beta\\delta}}{1+e^{-\\beta\\delta}}e^{-\\beta \\epsilon_\\heartsuit}\n",
    "\\end{equation}."
   ]
  },
  {
   "cell_type": "code",
   "execution_count": 8,
   "metadata": {},
   "outputs": [
    {
     "data": {
      "text/plain": [
       "expected_n (generic function with 1 method)"
      ]
     },
     "execution_count": 8,
     "metadata": {},
     "output_type": "execute_result"
    }
   ],
   "source": [
    "function K(material::Material, β::Real) # must assert β::Real as opposed to β::Float64 for ForwardDiff.jl to work\n",
    "    p♡ = 1 / (1 + exp(-β * material.δ)) # probability ring is on ♡ when gas is absent\n",
    "    return p♡ * exp(-β * material.ϵ△) + (1 - p♡) * exp(-β * material.ϵ♡)\n",
    "end\n",
    "\n",
    "function expected_n(material::Material, β::Real, P::Float64) # must use Real for ForwardDiff.jl\n",
    "    KβP = K(material, β) * β * P\n",
    "    return KβP / (1.0 + KβP)\n",
    "end"
   ]
  },
  {
   "cell_type": "markdown",
   "metadata": {},
   "source": [
    "plot a generic isotherm for the paper"
   ]
  },
  {
   "cell_type": "code",
   "execution_count": 9,
   "metadata": {},
   "outputs": [
    {
     "data": {
      "image/png": "[encoded data removed]",
      "text/plain": [
       "Figure(PyObject <Figure size 640x480 with 1 Axes>)"
      ]
     },
     "metadata": {},
     "output_type": "display_data"
    }
   ],
   "source": [
    "material = Material(1.0, -1.0, -1.5)\n",
    "βP = range(0.0, stop=3.0, length=300)\n",
    "n = [expected_n(material, 1.0, βP_i) for βP_i in βP]\n",
    "\n",
    "figure()\n",
    "# grid(\"on\", linestyle=\"--\", zorder=2)\n",
    "\n",
    "βP_half_max = 1 / K(material, 1.0)\n",
    "plot([βP_half_max, βP_half_max], [0.0, 0.5], color=\"k\", linestyle=\"--\")\n",
    "plot([0, βP_half_max], [0.5, 0.5], color=\"k\", linestyle=\"--\")\n",
    "\n",
    "xlabel(L\"$\\beta P$\")\n",
    "ylabel(L\"$\\langle n \\rangle$\")\n",
    "\n",
    "plot(βP, n, lw=4, clip_on=false, zorder=100)\n",
    "xlim([0.0, maximum(βP)]) # keep this after line above\n",
    "ylim([0.0, 1.0])\n",
    "\n",
    "xticks([0, βP_half_max], [0, \"1/K\"])\n",
    "yticks([i * 0.25 for i = 0:4])\n",
    "tight_layout()\n",
    "savefig(\"adsorption_isotherm.pdf\", format=\"pdf\")"
   ]
  },
  {
   "cell_type": "markdown",
   "metadata": {},
   "source": [
    "# Temperature-dependence of $\\langle n \\rangle$"
   ]
  },
  {
   "cell_type": "markdown",
   "metadata": {},
   "source": [
    "we will use both autodifferentiation and symbolic differentiation with substitution via `SymPy`."
   ]
  },
  {
   "cell_type": "code",
   "execution_count": 10,
   "metadata": {},
   "outputs": [
    {
     "name": "stderr",
     "output_type": "stream",
     "text": [
      "WARNING: redefining constant Kβ_MORF_symbolic\n",
      "WARNING: redefining constant ∂Kβ_∂β_MORF_symbolic\n"
     ]
    }
   ],
   "source": [
    "function _Kβ_symbolic()\n",
    "    β = Sym(\"β\")\n",
    "    ϵ♡ = Sym(\"ϵ♡\")\n",
    "    ϵ△ = Sym(\"ϵ△\")\n",
    "    δ = Sym(\"δ\")\n",
    "    \n",
    "    return β * (1/(1+exp(-β*δ)) * (exp(-β*ϵ△) + exp(-β*(ϵ♡+δ))))\n",
    "end\n",
    "\n",
    "const Kβ_MORF_symbolic = _Kβ_symbolic()\n",
    "\n",
    "function _∂Kβ_∂β_symbolic()\n",
    "    return diff(Kβ_MORF_symbolic, \"β\")\n",
    "end\n",
    "\n",
    "const ∂Kβ_∂β_MORF_symbolic = _∂Kβ_∂β_symbolic()\n",
    "\n",
    "function eval_sym(sym::Sym, material::Material, β::Float64)\n",
    "    params = Dict(\"β\" => β, \"ϵ♡\" => material.ϵ♡, \"ϵ△\" => material.ϵ△, \"δ\" => material.δ)\n",
    "    return convert(Float64, sym.subs(params))\n",
    "end\n",
    "\n",
    "# a test\n",
    "material = Material(rand(), -rand(), -rand())\n",
    "β = rand()\n",
    "params = Dict(\"β\" => β, \"ϵ♡\" => material.ϵ♡, \"ϵ△\" => material.ϵ△, \"δ\" => material.δ)\n",
    "@assert isapprox(K(material, β) * β, eval_sym(Kβ_MORF_symbolic, material, β))"
   ]
  },
  {
   "cell_type": "markdown",
   "metadata": {},
   "source": [
    "note: this is only a function of $\\beta (\\delta, \\epsilon_\\heartsuit, \\epsilon_\\bigtriangleup)$."
   ]
  },
  {
   "cell_type": "code",
   "execution_count": 11,
   "metadata": {},
   "outputs": [
    {
     "data": {
      "text/latex": [
       "\\begin{equation*}\\frac{\\left(β δ \\left(e^{β ϵ△} + e^{β \\left(δ + ϵ♡\\right)}\\right) + \\left(e^{β δ} + 1\\right) \\left(- β \\left(ϵ△ e^{β \\left(δ + ϵ♡\\right)} + \\left(δ + ϵ♡\\right) e^{β ϵ△}\\right) + e^{β ϵ△} + e^{β \\left(δ + ϵ♡\\right)}\\right)\\right) e^{- 2 β \\left(δ + ϵ△ + ϵ♡\\right) + β \\left(2 δ + ϵ△ + ϵ♡\\right)}}{\\left(e^{β δ} + 1\\right)^{2}}\\end{equation*}"
      ],
      "text/plain": [
       "⎛    ⎛ β⋅ϵ△    β⋅(δ + ϵ♡)⎞   ⎛ β⋅δ    ⎞ ⎛    ⎛    β⋅(δ + ϵ♡)             β⋅ϵ△⎞\n",
       "⎝β⋅δ⋅⎝ℯ     + ℯ          ⎠ + ⎝ℯ    + 1⎠⋅⎝- β⋅⎝ϵ△⋅ℯ           + (δ + ϵ♡)⋅ℯ    ⎠\n",
       "──────────────────────────────────────────────────────────────────────────────\n",
       "                                                                           2  \n",
       "                                                                 ⎛ β⋅δ    ⎞   \n",
       "                                                                 ⎝ℯ    + 1⎠   \n",
       "\n",
       "    β⋅ϵ△    β⋅(δ + ϵ♡)⎞⎞  -2⋅β⋅(δ + ϵ△ + ϵ♡) + β⋅(2⋅δ + ϵ△ + ϵ♡)\n",
       " + ℯ     + ℯ          ⎠⎠⋅ℯ                                      \n",
       "────────────────────────────────────────────────────────────────\n",
       "                                                                \n",
       "                                                                \n",
       "                                                                "
      ]
     },
     "execution_count": 11,
     "metadata": {},
     "output_type": "execute_result"
    }
   ],
   "source": [
    "simplify(∂Kβ_∂β_MORF_symbolic)"
   ]
  },
  {
   "cell_type": "markdown",
   "metadata": {},
   "source": [
    "for a Langmuir material with energy of adsorption $\\epsilon$..."
   ]
  },
  {
   "cell_type": "code",
   "execution_count": 12,
   "metadata": {},
   "outputs": [
    {
     "data": {
      "text/latex": [
       "\\begin{equation*}- β ϵ e^{- β ϵ} + e^{- β ϵ}\\end{equation*}"
      ],
      "text/plain": [
       "       -β⋅ϵ    -β⋅ϵ\n",
       "- β⋅ϵ⋅ℯ     + ℯ    "
      ]
     },
     "execution_count": 12,
     "metadata": {},
     "output_type": "execute_result"
    }
   ],
   "source": [
    "function Kβ_Langmuir_symbolic()\n",
    "    β = Sym(\"β\")\n",
    "    ϵ = Sym(\"ϵ\")\n",
    "    \n",
    "    return β * exp(-β*ϵ)\n",
    "end\n",
    "\n",
    "function ∂Kβ_∂β_Langmuir_symbolic()\n",
    "    return diff(Kβ_Langmuir_symbolic(), \"β\")\n",
    "end\n",
    "\n",
    "∂Kβ_∂β_Langmuir_symbolic()"
   ]
  },
  {
   "cell_type": "code",
   "execution_count": 23,
   "metadata": {},
   "outputs": [
    {
     "data": {
      "text/plain": [
       "∂Kβ_∂β_MORF (generic function with 1 method)"
      ]
     },
     "execution_count": 23,
     "metadata": {},
     "output_type": "execute_result"
    }
   ],
   "source": [
    "function ∂Kβ_∂β_Langmuir(βϵ::Float64)\n",
    "    return (1 - βϵ) * exp(-βϵ) \n",
    "end\n",
    "\n",
    "function ∂Kβ_∂β_MORF(material::Material, β::Float64)\n",
    "    return eval_sym(∂Kβ_∂β_MORF_symbolic, material, β)\n",
    "end"
   ]
  },
  {
   "cell_type": "code",
   "execution_count": 26,
   "metadata": {},
   "outputs": [],
   "source": [
    "function ∂Kβ_∂β_autodiff(material::Material, β::Float64)\n",
    "    # view K as a function of β only.\n",
    "    Kβ(x) = K(material, x[1]) * x[1] # x plays role of β\n",
    "    ∂Kβ_∂β_of_β = x -> ForwardDiff.gradient(Kβ, x) # x plays role of β\n",
    "    return ∂Kβ_∂β_of_β([β])[1]\n",
    "end\n",
    "\n",
    "# test with centered difference\n",
    "ϵ = 1e-8 # spacing\n",
    "@assert isapprox((K(material, β + ϵ) * (β + ϵ) - K(material, β - ϵ) * (β - ϵ)) / (2 * ϵ), \n",
    "    ∂Kβ_∂β_autodiff(material, β))\n",
    "\n",
    "# test by comparing to symbolic\n",
    "@assert isapprox(∂Kβ_∂β_autodiff(material, β), ∂Kβ_∂β_MORF(material, β))"
   ]
  },
  {
   "cell_type": "code",
   "execution_count": 27,
   "metadata": {},
   "outputs": [],
   "source": [
    "function ∂n_∂β_autodiff(material::Material, β::Float64, P::Float64)\n",
    "    # view n as a function of β only.\n",
    "    n(x) = expected_n(material, x[1], P) # x plays role of β\n",
    "    ∂n_∂β_of_β = x -> ForwardDiff.gradient(n, x) # x plays role of β\n",
    "    return ∂n_∂β_of_β([β])[1]\n",
    "end\n",
    "\n",
    "# test with centered difference\n",
    "material = Material(2.1, -3.7, -1.9)\n",
    "β = 0.1\n",
    "P = 4.4\n",
    "ϵ = 1e-8\n",
    "@assert isapprox((expected_n(material, β + ϵ, P) - expected_n(material, β - ϵ, P)) / (2 * ϵ), \n",
    "    ∂n_∂β_autodiff(material, β, P), rtol=0.0001)\n",
    "@assert isapprox(∂n_∂β_autodiff(material, β, P), ∂Kβ_∂β_autodiff(material, β) * P / (1 + K(material, β) * β * P) ^ 2)"
   ]
  },
  {
   "cell_type": "markdown",
   "metadata": {},
   "source": [
    "assert that $\\dfrac{d(K\\beta)}{d\\beta}$ is a function of $(\\beta \\delta, \\beta \\epsilon_\\triangle, \\beta \\epsilon_\\heartsuit)$ only, as pencil and paper math suggests."
   ]
  },
  {
   "cell_type": "code",
   "execution_count": 28,
   "metadata": {},
   "outputs": [],
   "source": [
    "@assert isapprox(∂Kβ_∂β_autodiff(Material(2.4, -1.45, -6.7), 1.0), \n",
    "                 ∂Kβ_∂β_autodiff(Material(2.4 * 3, -1.45 * 3, -6.7 * 3), 1.0 / 3))"
   ]
  },
  {
   "cell_type": "code",
   "execution_count": 29,
   "metadata": {},
   "outputs": [],
   "source": [
    "\"\"\"\n",
    "What is the energy of adsorption ϵ for a Langmuir material that exhibits the same K as the RMS-MOF at β?\n",
    "K_L = e^(-βϵ)\n",
    "\"\"\"\n",
    "βϵ_for_same_K_L(material::Material, β::Float64) = -log(K(material, β))\n",
    "\n",
    "βϵ = βϵ_for_same_K_L(material, β)\n",
    "@assert isapprox(exp(-βϵ), K(material, β))"
   ]
  },
  {
   "cell_type": "markdown",
   "metadata": {},
   "source": [
    "search param space  $(\\beta \\delta, \\beta \\epsilon_\\triangle, \\beta \\epsilon_\\heartsuit)$ for anamolous behavior. store in a grid and write as a `.cube` file for viz"
   ]
  },
  {
   "cell_type": "code",
   "execution_count": 30,
   "metadata": {},
   "outputs": [
    {
     "name": "stdout",
     "output_type": "stream",
     "text": [
      "\tSee /home/cokes/MORF_model/data/grids/∂Kβ_∂β_RMS_MOF_minus_Langmuir.cube\n"
     ]
    }
   ],
   "source": [
    "nb_pts = 30\n",
    "max_βE = 5.0\n",
    "βδ_range = range(0.0, stop=max_βE, length=nb_pts)\n",
    "βϵ♡_range = range(-max_βE, stop=0.0, length=nb_pts)\n",
    "βϵΔ_range = range(-max_βE, stop=0.0, length=nb_pts)\n",
    "# b/c it's really only a function of (βδ, βϵ♡, βϵΔ) [see pencil and paper math]\n",
    "β = 1.0\n",
    "\n",
    "box = Box(max_βE, max_βE, max_βE, π/2, π/2, π/2)\n",
    "grid = Grid(box, (nb_pts, nb_pts, nb_pts), zeros(Float64, nb_pts, nb_pts, nb_pts), :wutevs,\n",
    "    [0.0, -max_βE, -max_βE])\n",
    "\n",
    "for (i, βδ) in enumerate(βδ_range)\n",
    "    for (j, βϵ♡) in enumerate(βϵ♡_range)\n",
    "        for (k, βϵΔ) in enumerate(βϵΔ_range)\n",
    "            material = Material(βδ, βϵ♡, βϵΔ)\n",
    "        \n",
    "            # find ϵ for Langmuir material with same K\n",
    "            βϵ = βϵ_for_same_K_L(material, 1.0)\n",
    "            @assert(isapprox(K(material, 1.0), exp(-βϵ)))\n",
    "            \n",
    "            grid.data[i, j, k] = ∂Kβ_∂β_MORF(material, β) - ∂Kβ_∂β_Langmuir(βϵ)\n",
    "        end\n",
    "    end\n",
    "end\n",
    "\n",
    "isdir(\"data\") ? nothing : mkdir(\"data\")\n",
    "write_cube(grid, \"∂Kβ_∂β_RMS_MOF_minus_Langmuir.cube\")"
   ]
  },
  {
   "cell_type": "markdown",
   "metadata": {},
   "source": [
    "set βδ, make heat maps."
   ]
  },
  {
   "cell_type": "code",
   "execution_count": null,
   "metadata": {},
   "outputs": [],
   "source": [
    "βδ = 2.0\n",
    "nb_pts = 100\n",
    "βϵ♡_range = range(0.0, stop=10.0, length=nb_pts)\n",
    "βϵ△_range = range(0.0, stop=10.0, length=nb_pts)\n",
    "\n",
    "X = [βϵ♡_range[j] for i=1:nb_pts, j=1:nb_pts]\n",
    "Y = [βϵ△_range[i] for i=1:nb_pts, j=1:nb_pts]\n",
    "Z = similar(X)\n",
    "for (i, βϵ♡) in enumerate(βϵ♡_range)\n",
    "    for (j, βϵ△) in enumerate(βϵ△_range)\n",
    "        material = Material(βδ, βϵ♡, βϵ△)    \n",
    "        # find epsilon that gives same K for Langmuir material\n",
    "        βϵ = βϵ_for_same_K_L(material, β)\n",
    "        \n",
    "        Z[i, j] = ∂Kβ_∂β_MORF(material, β) - ∂Kβ_∂β_Langmuir(βϵ)\n",
    "    end\n",
    "end"
   ]
  },
  {
   "cell_type": "code",
   "execution_count": null,
   "metadata": {},
   "outputs": [],
   "source": [
    "figure()\n",
    "\n",
    "norm = PyPlot.cm.colors.Normalize(vmax=maximum(abs.(Z)), vmin=-maximum(abs.(Z)))\n",
    "cmap = PyPlot.cm.PRGn\n",
    "levels = range(-maximum(abs.(Z)), stop=maximum(abs.(Z)), length=11)\n",
    "contourf(X, Y, Z, levels, norm=norm,\n",
    "                     cmap=PyPlot.cm.get_cmap(cmap, length(levels) - 1))\n",
    "colorbar()\n",
    "xlabel(L\"$\\epsilon_\\heartsuit$\")\n",
    "ylabel(L\"$\\epsilon_\\bigtriangleup$\")"
   ]
  },
  {
   "cell_type": "code",
   "execution_count": null,
   "metadata": {},
   "outputs": [],
   "source": [
    "material = Material(45.833, -47.917, -4.167)\n",
    "print(material)\n",
    "\n",
    "P = range(0.0, stop=0.1, length=10)\n",
    "β = range(0.95, stop=1.05, length=5)\n",
    "\n",
    "cnorm = PyPlot.matplotlib.colors.Normalize(vmin=minimum(β), vmax=maximum(β))\n",
    "β_to_color = PyPlot.matplotlib.cm.ScalarMappable(norm=cnorm, cmap=PyPlot.matplotlib.cm.get_cmap(\"viridis\"))\n",
    "β_to_color.set_array([])\n",
    "\n",
    "figure()\n",
    "for β_i in β\n",
    "    println(\"∂(Kβ)/∂β = \", ∂Kβ_∂β(material, β_i))\n",
    "    n = [expected_n(material, β_i, P_i) for P_i in P]\n",
    "    plot(P, n, color=β_to_color.to_rgba(β_i))\n",
    "end\n",
    "colorbar(β_to_color, label=L\"$\\beta$ [1/J]\", extend=\"both\")\n",
    "\n",
    "xlabel(L\"$P$\")\n",
    "ylabel(L\"$\\langle n \\rangle$\")"
   ]
  },
  {
   "cell_type": "markdown",
   "metadata": {},
   "source": [
    "watch: `∂n_∂β` function tells us it is negative yet we increase `β` and see `n` increase!"
   ]
  },
  {
   "cell_type": "code",
   "execution_count": null,
   "metadata": {},
   "outputs": [],
   "source": [
    "β = 1.0\n",
    "P = 0.1\n",
    "∂n_∂β(material, β, P)"
   ]
  },
  {
   "cell_type": "code",
   "execution_count": null,
   "metadata": {},
   "outputs": [],
   "source": [
    "expected_n(material, β, P)"
   ]
  },
  {
   "cell_type": "code",
   "execution_count": null,
   "metadata": {},
   "outputs": [],
   "source": [
    "expected_n(material, β + 0.001, P)"
   ]
  },
  {
   "cell_type": "markdown",
   "metadata": {},
   "source": [
    "# ring position\n",
    "\n",
    "\\begin{equation}\n",
    "    \\langle r \\rangle = \n",
    "   \\left(\\frac{e^{-\\beta \\delta}}{1+e^{-\\beta \\delta}} \\right)\n",
    "   \\left( \\frac{1+e^{-\\beta \\epsilon_\\heartsuit}\\beta P}{1+K\\beta P}\\right),\n",
    "\\end{equation}"
   ]
  },
  {
   "cell_type": "code",
   "execution_count": null,
   "metadata": {},
   "outputs": [],
   "source": [
    "function expected_r(material::Material, β::Float64, P::Float64)\n",
    "    p_Δ = exp(-β * material.δ) / (1 + exp(-β * material.δ)) # in two-state model for ring without gas\n",
    "    return p_Δ * (1 + exp(-β * material.ϵ♡) * β * P) / (1 + K(material, β) * β * P)\n",
    "end"
   ]
  },
  {
   "cell_type": "markdown",
   "metadata": {},
   "source": [
    "### show dependence on gas uptake"
   ]
  },
  {
   "cell_type": "code",
   "execution_count": null,
   "metadata": {},
   "outputs": [],
   "source": [
    "material_gas_loves_Δ = Material(1.0, -2.0, -4.0)\n",
    "material_gas_loves_♡ = Material(1.0, -4.0, -2.0)\n",
    "@assert isapprox(material_gas_loves_♡.δ, material_gas_loves_Δ.δ)\n",
    "\n",
    "println(\"material where gas loves Δ: \", material_gas_loves_Δ)\n",
    "println(\"material where gas loves ♡: \", material_gas_loves_♡)\n",
    "\n",
    "r_no_gas = exp(-material_gas_loves_♡.δ) / (1 + exp(-material_gas_loves_♡.δ))\n",
    "\n",
    "βP = range(0.0, stop=1.0, length=300)\n",
    "r_gas_loves_Δ = [expected_r(material_gas_loves_Δ, 1.0, βP_i) for βP_i in βP]\n",
    "r_gas_loves_♡ = [expected_r(material_gas_loves_♡, 1.0, βP_i) for βP_i in βP]\n",
    "\n",
    "figure()\n",
    "plot(βP, r_gas_loves_Δ, lw=4, color=\"C1\",\n",
    "    label=L\"$\\epsilon_\\bigtriangleup <\\epsilon_\\heartsuit$\",\n",
    "    #label=L\"$\\beta \\epsilon_\\bigtriangleup=$\" * @sprintf(\"%d\", material_gas_loves_Δ.ϵΔ) * L\"$<\\beta \\epsilon_\\heartsuit=$\" * @sprintf(\"%d\", material_gas_loves_Δ.ϵ♡),\n",
    "    clip_on=false\n",
    ")\n",
    "plot(βP, r_gas_loves_♡, lw=4, color=\"C2\",\n",
    "    label=L\"$ \\epsilon_\\heartsuit <\\epsilon_\\bigtriangleup$\",\n",
    "    #label=L\"$\\beta \\epsilon_\\heartsuit=$\" * @sprintf(\"%d\", material_gas_loves_♡.ϵ♡) * L\"$<\\beta \\epsilon_\\bigtriangleup=$\" * @sprintf(\"%d\", material_gas_loves_♡.ϵΔ),\n",
    "    clip_on=false\n",
    ")\n",
    "# text(0.6, .5, L\"$\\beta \\delta=$\" * @sprintf(\"%d\", material_gas_loves_♡.δ))\n",
    "axhline(y=r_no_gas, color=\"k\", linestyle=\"--\")\n",
    "xlabel(L\"$βP$\")\n",
    "ylabel(L\"\\langle r \\rangle\")\n",
    "ylim([0.0, 1.0])\n",
    "xlim([0, 1])\n",
    "text(-0.15, -0.0225, L\"$\\heartsuit$\")\n",
    "text(-0.15, 1. - 0.0225, L\"$\\bigtriangleup$\")\n",
    "legend()\n",
    "tight_layout()\n",
    "savefig(\"expected_r.pdf\", format=\"pdf\")"
   ]
  },
  {
   "cell_type": "markdown",
   "metadata": {},
   "source": [
    "### show dependence on temperature (an interesting case)"
   ]
  },
  {
   "cell_type": "markdown",
   "metadata": {},
   "source": [
    "this is a property dependent on $n$."
   ]
  },
  {
   "cell_type": "code",
   "execution_count": null,
   "metadata": {},
   "outputs": [],
   "source": [
    "material = Material(1.0, -3.0, -1.0)\n",
    "println(material)\n",
    "β = range(0.1, stop=10.0, length=100)\n",
    "\n",
    "P = vcat([0.0], 10. .^ (-12:2))\n",
    "\n",
    "r_empty = exp.(-β * material.δ) ./ (1.0 .+ exp.(-β * material.δ))\n",
    "r_full = exp.(-β * (material.ϵ♡ + material.δ)) ./ (exp.(-β * material.ϵΔ) .+ exp.(-β * (material.ϵ♡ + material.δ)))\n",
    "\n",
    "cnorm = PyPlot.matplotlib.colors.LogNorm(vmin=minimum(P[2:end]), vmax=maximum(P))\n",
    "P_to_color = PyPlot.matplotlib.cm.ScalarMappable(norm=cnorm, cmap=PyPlot.matplotlib.cm.get_cmap(\"viridis\"))\n",
    "P_to_color.set_array([])\n",
    "\n",
    "fig, ax = subplots()\n",
    "plot(β, r_empty, color=P_to_color.to_rgba(minimum(P)), label=L\"$P=0$\", lw=4, clip_on=false)\n",
    "plot(β, r_full, color=P_to_color.to_rgba(maximum(P)), label=L\"$P\\rightarrow \\infty$\", lw=4, clip_on=false)\n",
    "xlabel(L\"$\\beta$ [1/energy]\")\n",
    "ylabel(L\"$\\langle r \\rangle$\")\n",
    "for P_i in P\n",
    "    r = [expected_r(material, β_i, β_i * P_i) for β_i in β]\n",
    "    plot(β, r, color=P_to_color.to_rgba(P_i), clip_on=false)\n",
    "end\n",
    "axhline(y=0.5, color=\"k\", linestyle=\"--\")\n",
    "colorbar(P_to_color, label=L\"$P$ [energy]\", extend=\"both\")\n",
    "ylim([0, 1])\n",
    "xlim([0, maximum(β)])\n",
    "legend()\n",
    "tight_layout()\n",
    "savefig(\"expected_r_T_dependence.pdf\", format=\"pdf\")"
   ]
  }
 ],
 "metadata": {
  "kernelspec": {
   "display_name": "Julia 1.2.0",
   "language": "julia",
   "name": "julia-1.2"
  },
  "language_info": {
   "file_extension": ".jl",
   "mimetype": "application/julia",
   "name": "julia",
   "version": "1.2.0"
  }
 },
 "nbformat": 4,
 "nbformat_minor": 2
}
