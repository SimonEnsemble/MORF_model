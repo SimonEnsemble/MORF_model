{
 "cells": [
  {
   "cell_type": "code",
   "execution_count": 21,
   "metadata": {},
   "outputs": [],
   "source": [
    "using ForwardDiff\n",
    "using Printf\n",
    "using PyPlot\n",
    "PyPlot.matplotlib.style.use(\"Solarize_Light2\") # dope style"
   ]
  },
  {
   "cell_type": "markdown",
   "metadata": {},
   "source": [
    "# Data structure for a MORF\n",
    "* $\\delta$ is...\n",
    "* $\\epsilon_\\heartsuit$ is...\n",
    "* $\\epsilon_\\Delta$ is...\n",
    "\n",
    "\n",
    "We define _material space_ to be $( \\delta, \\epsilon_\\heartsuit, \\epsilon_\\triangle)$."
   ]
  },
  {
   "cell_type": "code",
   "execution_count": 22,
   "metadata": {},
   "outputs": [
    {
     "data": {
      "text/plain": []
     },
     "execution_count": 22,
     "metadata": {},
     "output_type": "execute_result"
    },
    {
     "name": "stdout",
     "output_type": "stream",
     "text": [
      "MORF material with:\n",
      "\tδ = 1.000\n",
      "\tϵ♡ = -3.000\n",
      "\tϵΔ = 4.000\n"
     ]
    }
   ],
   "source": [
    "struct Material\n",
    "    δ::Float64\n",
    "    ϵ♡::Float64\n",
    "    ϵΔ::Float64\n",
    "end\n",
    "\n",
    "function Base.show(io::IO, material::Material)\n",
    "    @printf(\"MORF material with:\\n\\tδ = %.3f\\n\\tϵ♡ = %.3f\\n\\tϵΔ = %.3f\\n\", material.δ, material.ϵ♡, material.ϵΔ)\n",
    "end\n",
    "\n",
    "# example use\n",
    "material = Material(1.0, -3.0, 4.0)"
   ]
  },
  {
   "cell_type": "markdown",
   "metadata": {},
   "source": [
    "# Adsorption isotherm of a MORF\n",
    "\n",
    "\\begin{equation}\n",
    "    \\langle n \\rangle(\\lambda) = \\dfrac{K\\lambda}{1+K\\lambda}\n",
    "\\end{equation} where $\\lambda = e^{\\beta \\mu}$ and:\n",
    "\\begin{equation}\n",
    "K=K(\\beta; \\delta, \\epsilon_\\heartsuit, \\epsilon_\\triangle)=\\dfrac{1}{1+e^{-\\beta\\delta}}e^{-\\beta \\epsilon_\\triangle} + \\dfrac{e^{-\\beta\\delta}}{1+e^{-\\beta\\delta}}e^{-\\beta \\epsilon_\\heartsuit}\n",
    "\\end{equation}."
   ]
  },
  {
   "cell_type": "code",
   "execution_count": 23,
   "metadata": {},
   "outputs": [
    {
     "data": {
      "text/plain": [
       "K (generic function with 1 method)"
      ]
     },
     "execution_count": 23,
     "metadata": {},
     "output_type": "execute_result"
    }
   ],
   "source": [
    "function K(β::Real, material::Material) # must assert β::Real as opposed to β::Float64 for ForwardDiff.jl to work\n",
    "    p = 1 / (1 + exp(-β * material.δ)) # probability ring is on ♡ when gas is absent\n",
    "    return p * exp(-β * material.ϵΔ) + (1 - p) * exp(-β * material.ϵ♡)\n",
    "end"
   ]
  },
  {
   "cell_type": "markdown",
   "metadata": {},
   "source": [
    "# Searching for anamolous behavior\n",
    "\n",
    "## Can $\\langle n \\rangle$ *increase* when temperature increases?\n",
    "i.e. is there a region of material space and a temperature $\\beta$ such that:\n",
    "\\begin{equation}\n",
    "    \\dfrac{\\partial \\langle n \\rangle}{\\partial \\beta} <0?\n",
    "\\end{equation}"
   ]
  },
  {
   "cell_type": "markdown",
   "metadata": {},
   "source": [
    "let's use auto-differentiation to computationally explore material space and $\\beta$ to see if this happens."
   ]
  },
  {
   "cell_type": "code",
   "execution_count": 24,
   "metadata": {},
   "outputs": [
    {
     "data": {
      "text/plain": [
       "∂K_∂β (generic function with 1 method)"
      ]
     },
     "execution_count": 24,
     "metadata": {},
     "output_type": "execute_result"
    }
   ],
   "source": [
    "function ∂K_∂β(β::Float64, material::Material)\n",
    "    # view K as a function of β only.\n",
    "    K_of_β(x) = K(x[1], material) # x plays role of β\n",
    "    ∂K_∂β_of_β = x -> ForwardDiff.gradient(K_of_β, x) # x plays role of β\n",
    "    return ∂K_∂β_of_β([β])[1]\n",
    "end"
   ]
  },
  {
   "cell_type": "code",
   "execution_count": 25,
   "metadata": {},
   "outputs": [
    {
     "name": "stdout",
     "output_type": "stream",
     "text": [
      "∂⟨n⟩/∂β < 0 when δ = 3.714286 ϵ♡ = -4.00 ϵΔ = -0.29 β = 10.00\n",
      "∂⟨n⟩/∂β < 0 when δ = 3.714286 ϵ♡ = -4.00 ϵΔ = 0.00 β = 10.00\n",
      "∂⟨n⟩/∂β < 0 when δ = 3.714286 ϵ♡ = -3.71 ϵΔ = 0.00 β = 10.00\n",
      "∂⟨n⟩/∂β < 0 when δ = 3.714286 ϵ♡ = -3.43 ϵΔ = 0.00 β = 10.00\n",
      "∂⟨n⟩/∂β < 0 when δ = 4.000000 ϵ♡ = -4.00 ϵΔ = 0.00 β = 9.29\n",
      "∂⟨n⟩/∂β < 0 when δ = 4.000000 ϵ♡ = -4.00 ϵΔ = 0.00 β = 10.00\n",
      "∂⟨n⟩/∂β < 0 when δ = 4.000000 ϵ♡ = -3.71 ϵΔ = 0.00 β = 9.29\n",
      "∂⟨n⟩/∂β < 0 when δ = 4.000000 ϵ♡ = -3.71 ϵΔ = 0.00 β = 10.00\n"
     ]
    }
   ],
   "source": [
    "nb_pts = 15\n",
    "δ_range = range(0.0, stop=4.0, length=nb_pts)\n",
    "ϵ♡_range = range(-4.0, stop=0.0, length=nb_pts)\n",
    "ϵΔ_range = range(-4.0, stop=0.0, length=nb_pts)\n",
    "β_range = range(0.01, stop=10.0, length=nb_pts)\n",
    "\n",
    "for δ in δ_range\n",
    "    for ϵ♡ in ϵ♡_range\n",
    "        for ϵΔ in ϵΔ_range\n",
    "            material = Material(δ, ϵ♡, ϵΔ)\n",
    "            for β in β_range\n",
    "                # well, for Henry's law under this model\n",
    "                dn_dβ = K(β, material) + β * ∂K_∂β(β, material)\n",
    "                if dn_dβ < 0.0\n",
    "                    @printf(\"∂⟨n⟩/∂β < 0 when δ = %f ϵ♡ = %.2f ϵΔ = %.2f β = %.2f\\n\", δ, ϵ♡ , ϵΔ, β)\n",
    "                end\n",
    "            end\n",
    "        end\n",
    "    end\n",
    "end"
   ]
  },
  {
   "cell_type": "code",
   "execution_count": 28,
   "metadata": {},
   "outputs": [
    {
     "data": {
      "image/png": "[encoded data removed]",
      "text/plain": [
       "Figure(PyObject <Figure size 640x480 with 1 Axes>)"
      ]
     },
     "metadata": {},
     "output_type": "display_data"
    },
    {
     "name": "stdout",
     "output_type": "stream",
     "text": [
      "MORF material with:\n",
      "\tδ = 4.000\n",
      "\tϵ♡ = -4.000\n",
      "\tϵΔ = 0.000\n"
     ]
    },
    {
     "data": {
      "text/plain": [
       "PyObject Text(0.5, 1.0, \"Henry's law\")"
      ]
     },
     "execution_count": 28,
     "metadata": {},
     "output_type": "execute_result"
    }
   ],
   "source": [
    "λ = range(0.0, stop=1.0, length=100)\n",
    "β = 10.0\n",
    "\n",
    "material = Material(4.0, -4.0, 0.0)\n",
    "print(material)\n",
    "\n",
    "fig = plt.figure()\n",
    "plot(λ, K(β, material) * λ, label=\"cold\", color=\"b\")\n",
    "plot(λ, K(β*0.9, material) * λ, label=\"hot\", color=\"r\")\n",
    "legend()\n",
    "plt.xlabel(\"λ\")\n",
    "plt.ylabel(\"⟨n⟩\")\n",
    "plt.title(\"Henry's law\")"
   ]
  }
 ],
 "metadata": {
  "kernelspec": {
   "display_name": "Julia 1.1.0",
   "language": "julia",
   "name": "julia-1.1"
  },
  "language_info": {
   "file_extension": ".jl",
   "mimetype": "application/julia",
   "name": "julia",
   "version": "1.1.0"
  }
 },
 "nbformat": 4,
 "nbformat_minor": 2
}
