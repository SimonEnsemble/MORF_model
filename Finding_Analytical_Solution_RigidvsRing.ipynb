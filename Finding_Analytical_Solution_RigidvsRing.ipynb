{
 "cells": [
  {
   "cell_type": "markdown",
   "metadata": {},
   "source": [
    "# Ring MOFs vs single site MOFs  \n",
    "One of the places we hope to find a useful applicaiton for MORFs is in gas storage, where we hope that in some cases, a MORF will be more effective at driving gas off of itself in respone to an increase in temperature than a comparable MOF without a ring. It should be noted that for any MORF the absorption isotherm looks like: $$\\langle n \\rangle_{Ring}(P) = \\dfrac{K_R \\beta P}{1+K_R \\beta P}$$ with K given by: $$K_R=K_R(\\beta; \\delta, \\epsilon_\\heartsuit, \\epsilon_\\triangle)=\\dfrac{1}{1+e^{-\\beta\\delta}}e^{-\\beta \\epsilon_\\triangle} + \\dfrac{e^{-\\beta\\delta}}{1+e^{-\\beta\\delta}}e^{-\\beta \\epsilon_\\heartsuit}$$\n",
    "   In order compare this to a non ring MOF we'll compare to the absorption iotherm of a single site MOF with no moving parts. $$\\langle n \\rangle_{Langmuir}(P) = \\dfrac{K_L \\beta P}{1+K_L \\beta P}$$ $$K_L = e^{-\\beta \\epsilon}$$\n",
    "   We would like to find when $\\frac{\\partial \\langle n \\rangle_{Ring}}{\\partial \\beta} > \\frac{\\partial \\langle n \\rangle_{Langmuir}}{\\partial \\beta}$ given $K_R = K_L$.$$e^{-\\beta \\epsilon}=\\dfrac{1}{1+e^{-\\beta\\delta}}e^{-\\beta \\epsilon_\\triangle} + \\dfrac{e^{-\\beta\\delta}}{1+e^{-\\beta\\delta}}e^{-\\beta \\epsilon_\\heartsuit}$$ $$\\epsilon = \\frac{-ln(K_R)}{\\beta}$$ Fortunately, $$\\frac{\\partial \\langle n \\rangle}{\\partial \\beta} = \\frac{\\partial \\langle n \\rangle}{\\partial \\beta K} \\frac{\\partial \\beta K}{\\partial \\beta} = \\frac{P}{(1+P \\beta K)^2}\\frac{\\partial \\beta K}{\\partial \\beta} $$\n",
    "   So if K_R = K_L, we can simplify to finding when, $$\\frac{\\partial \\beta K_R}{\\partial \\beta} >\\frac{\\partial \\beta K_L}{\\partial \\beta}$$"
   ]
  },
  {
   "cell_type": "code",
   "execution_count": 4,
   "metadata": {},
   "outputs": [
    {
     "data": {
      "text/latex": [
       "\\begin{equation*}\\frac{e^{- β \\left(- δ + ϵ_{♡}\\right)} + e^{- β ϵ_{Δ}}}{1 + e^{- β δ}}\\end{equation*}"
      ],
      "text/plain": [
       " -β⋅(-δ + ϵ_♡)    -β⋅ϵ_Δ\n",
       "ℯ              + ℯ      \n",
       "────────────────────────\n",
       "            -β⋅δ        \n",
       "       1 + ℯ            "
      ]
     },
     "execution_count": 4,
     "metadata": {},
     "output_type": "execute_result"
    }
   ],
   "source": [
    "using SymPy\n",
    "β = Sym(\"β\")\n",
    "ϵ_Δ = Sym(\"ϵ_Δ\")\n",
    "ϵ_♡ = Sym(\"ϵ_♡\")\n",
    "δ = Sym(\"δ\")\n",
    "P = Sym(\"P\")\n",
    "K_R = (exp(-β*ϵ_Δ) + exp(-β*(ϵ_♡-δ)))/(1+exp(-β*δ))\n",
    "ϵ = -(1/β)*log(K_R)\n",
    "K_L = exp(-β*ϵ)\n",
    "# N_R = K_R(β,ϵ_Δ,ϵ_♡,δ)*β*P/(1+K_R(β,ϵ_Δ,ϵ_♡,δ)*β*P)\n",
    "# N_L = K_L(β,ϵ_Δ,ϵ_♡,δ)*β*P/(1+K_L(β,ϵ_Δ,ϵ_♡,δ)*β*P)"
   ]
  },
  {
   "cell_type": "code",
   "execution_count": 8,
   "metadata": {},
   "outputs": [
    {
     "data": {
      "text/latex": [
       "\\begin{equation*}0\\end{equation*}"
      ],
      "text/plain": [
       "0"
      ]
     },
     "execution_count": 8,
     "metadata": {},
     "output_type": "execute_result"
    }
   ],
   "source": [
    "βKR = β*K_R\n",
    "βKL = β*K_L\n",
    "\n",
    "dβKR_dβ = diff(βKR,β)\n",
    "dβKL_dβ = diff(βKL,β)\n",
    "\n",
    "simplify(dβKR_dβ - dβKL_dβ)"
   ]
  },
  {
   "cell_type": "code",
   "execution_count": 4,
   "metadata": {},
   "outputs": [
    {
     "name": "stdout",
     "output_type": "stream",
     "text": [
      "β*δ*(exp(-β*(-δ + ϵ_♡)) + exp(-β*ϵ_Δ))*exp(-β*δ)/(1 + exp(-β*δ))^2 + β*(-ϵ_Δ*exp(-β*ϵ_Δ) + (δ - ϵ_♡)*exp(-β*(-δ + ϵ_♡)))/(1 + exp(-β*δ)) + (exp(-β*(-δ + ϵ_♡)) + exp(-β*ϵ_Δ))/(1 + exp(-β*δ))\n"
     ]
    }
   ],
   "source": [
    "# println(dβKR_dβ)"
   ]
  },
  {
   "cell_type": "markdown",
   "metadata": {},
   "source": [
    "Now we want to know under what circumstances $\\frac{\\partial \\langle n \\rangle_{Ring}}{\\partial \\beta} > \\frac{\\partial \\langle n \\rangle_{Langmuir}}{\\partial \\beta}$"
   ]
  },
  {
   "cell_type": "code",
   "execution_count": null,
   "metadata": {},
   "outputs": [],
   "source": [
    "# solveset(dNR_dβ-dNL_dβ,'<')"
   ]
  },
  {
   "cell_type": "code",
   "execution_count": null,
   "metadata": {},
   "outputs": [],
   "source": []
  }
 ],
 "metadata": {
  "kernelspec": {
   "display_name": "Julia 1.0.3",
   "language": "julia",
   "name": "julia-1.0"
  },
  "language_info": {
   "file_extension": ".jl",
   "mimetype": "application/julia",
   "name": "julia",
   "version": "1.0.3"
  }
 },
 "nbformat": 4,
 "nbformat_minor": 2
}
